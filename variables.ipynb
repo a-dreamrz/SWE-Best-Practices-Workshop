{
 "cells": [
  {
   "cell_type": "code",
   "execution_count": null,
   "id": "noble-richardson",
   "metadata": {},
   "outputs": [],
   "source": [
    " # File for GCP connection\n",
    "credentials = service_account.Credentials.from_service_account_file()\n",
    "\n",
    "#  BigQuery Variables\n",
    "PROJECT_ID = \n",
    "DATASET_ID = \n",
    "#  MySql Variables\n",
    "MYSQL_USERNAME = \n",
    "MYSQL_PASSWORD = \n",
    "MYSQL_HOST = \n",
    "MYSQL_DATABASE = \n",
    "# Path for the dump directory\n",
    "DIRECTORY ="
   ]
  }
 ],
 "metadata": {
  "kernelspec": {
   "display_name": "Python 3",
   "language": "python",
   "name": "python3"
  },
  "language_info": {
   "codemirror_mode": {
    "name": "ipython",
    "version": 3
   },
   "file_extension": ".py",
   "mimetype": "text/x-python",
   "name": "python",
   "nbconvert_exporter": "python",
   "pygments_lexer": "ipython3",
   "version": "3.8.5"
  }
 },
 "nbformat": 4,
 "nbformat_minor": 5
}
